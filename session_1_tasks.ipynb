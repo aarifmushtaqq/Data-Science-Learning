{
  "nbformat": 4,
  "nbformat_minor": 0,
  "metadata": {
    "colab": {
      "provenance": [],
      "include_colab_link": true
    },
    "kernelspec": {
      "name": "python3",
      "display_name": "Python 3"
    },
    "language_info": {
      "name": "python"
    }
  },
  "cells": [
    {
      "cell_type": "markdown",
      "metadata": {
        "id": "view-in-github",
        "colab_type": "text"
      },
      "source": [
        "<a href=\"https://colab.research.google.com/github/aarifmushtaqq/Data-Science-Learning/blob/main/session_1_tasks.ipynb\" target=\"_parent\"><img src=\"https://colab.research.google.com/assets/colab-badge.svg\" alt=\"Open In Colab\"/></a>"
      ]
    },
    {
      "cell_type": "markdown",
      "source": [
        "# Task : Session 1\n",
        "Solve these questions own your own and try to test yourself what you have learned in the session.\n",
        "\n",
        "Happy Learning!"
      ],
      "metadata": {
        "id": "A05OG15VqOPF"
      }
    },
    {
      "cell_type": "markdown",
      "source": [
        "### Q1 :- Print the given strings as per stated format.\n",
        "\n",
        "**Given strings**:\n",
        "```\n",
        "\"Data\" \"Science\" \"Mentorship\" \"Program\"\n",
        "\"By\" \"CampusX\"\n",
        "```\n",
        "**Output**:\n",
        "```\n",
        "Data-Science-Mentorship-Program-started-By-CampusX\n",
        "```\n",
        "\n",
        "Concept- [Seperator and End]"
      ],
      "metadata": {
        "id": "2doIXf8bqe9_"
      }
    },
    {
      "cell_type": "code",
      "source": [
        "# Write your code here\n",
        "print(\"Data\",\"Science\",\"Mentorship\",\"Program\",\"By\",\"CampusX\",sep=\"-\")"
      ],
      "metadata": {
        "id": "-em6d3KErDtp",
        "outputId": "6680b399-8443-4918-998c-d3f8fa7a616f",
        "colab": {
          "base_uri": "https://localhost:8080/"
        }
      },
      "execution_count": 1,
      "outputs": [
        {
          "output_type": "stream",
          "name": "stdout",
          "text": [
            "Data-Science-Mentorship-Program-By-CampusX\n"
          ]
        }
      ]
    },
    {
      "cell_type": "markdown",
      "source": [
        "### Q2:- Write a program that will convert celsius value to fahrenheit."
      ],
      "metadata": {
        "id": "1KUpN7ZTrC3_"
      }
    },
    {
      "cell_type": "code",
      "source": [
        "# Write your code here\n",
        "cel=float(input(\"Enter The Celsius Value: \"))\n",
        "fah=(cel*1.8) +32\n",
        "\n",
        "print(\"The Value Will Be: \",fah)\n",
        "\n"
      ],
      "metadata": {
        "id": "yxKYhYQiqWfj",
        "outputId": "a9f91abe-0c83-47bf-e629-da96538fe725",
        "colab": {
          "base_uri": "https://localhost:8080/"
        }
      },
      "execution_count": 2,
      "outputs": [
        {
          "output_type": "stream",
          "name": "stdout",
          "text": [
            "Enter The Celsius Value: 25\n",
            "The Value Will Be:  77.0\n"
          ]
        }
      ]
    },
    {
      "cell_type": "markdown",
      "source": [
        "### Q3:- Take 2 numbers as input from the user.Write a program to swap the numbers without using any special python syntax."
      ],
      "metadata": {
        "id": "RLrOBBJurLB2"
      }
    },
    {
      "cell_type": "code",
      "source": [
        "# Write your code here\n",
        "num1=int(input(\"Enter The First Number:  \"))\n",
        "num2=int(input(\"Enter The Second Number: \"))\n",
        "\n",
        "temp=num1\n",
        "num1=num2\n",
        "num2=temp\n",
        "\n",
        "print(f\"After swapping First Number will be {num1} and Second Number will Be {num2}\")"
      ],
      "metadata": {
        "id": "yPn7if0TrJ4F",
        "outputId": "8e3a731f-faa8-4633-c784-6f52155af487",
        "colab": {
          "base_uri": "https://localhost:8080/"
        }
      },
      "execution_count": 3,
      "outputs": [
        {
          "output_type": "stream",
          "name": "stdout",
          "text": [
            "Enter The First Number:  12\n",
            "Enter The Second Number: 13\n",
            "After swapping First Number will be 13 and Second Number will Be 12\n"
          ]
        }
      ]
    },
    {
      "cell_type": "markdown",
      "source": [
        "### Q4:- Write a program to find the euclidean distance between two coordinates.Take both the coordinates from the user as input."
      ],
      "metadata": {
        "id": "waLCP1bjr7ML"
      }
    },
    {
      "cell_type": "code",
      "source": [
        "# Write your code here\n",
        "x1=int(input(\"Enter x1: \"))\n",
        "x2=int(input(\"Enter x2: \"))\n",
        "y1=int(input(\"Enter y1: \"))\n",
        "y2=int(input(\"Enter y2: \"))\n",
        "\n",
        "distance=float(((x2 - x1)**2 + (y2 - y1)**2)**0.5)\n",
        "\n",
        "print(\"The Distance Will Be: \",distance)"
      ],
      "metadata": {
        "id": "Pl1Sv-xnrxnH",
        "outputId": "63018c86-6778-4581-b0ad-c63b4a2b0bdf",
        "colab": {
          "base_uri": "https://localhost:8080/"
        }
      },
      "execution_count": 9,
      "outputs": [
        {
          "output_type": "stream",
          "name": "stdout",
          "text": [
            "Enter x1: 3\n",
            "Enter x2: 4\n",
            "Enter y1: 6\n",
            "Enter y2: 8\n",
            "The Distance Will Be:  2.23606797749979\n"
          ]
        }
      ]
    },
    {
      "cell_type": "markdown",
      "source": [
        "### Q5:- Write a program to find the simple interest when the value of principle,rate of interest and time period is provided by the user.\n"
      ],
      "metadata": {
        "id": "VLrhg-FRsHjR"
      }
    },
    {
      "cell_type": "code",
      "source": [
        "# Write your code here\n",
        "p=float(input(\"Enter Principle: \"))\n",
        "r=float(input(\"Enter Rate Of Intrest: \"))\n",
        "t=float(input(\"Enter Time Period: \"))\n",
        "\n",
        "si=float((p*r*t)/100)\n",
        "\n",
        "print(\"The Simple Intrest will Be: \",si)"
      ],
      "metadata": {
        "id": "s40DlReZsTmY",
        "outputId": "154c0007-86c5-4af3-ee67-eb417fa743e8",
        "colab": {
          "base_uri": "https://localhost:8080/"
        }
      },
      "execution_count": 11,
      "outputs": [
        {
          "output_type": "stream",
          "name": "stdout",
          "text": [
            "Enter Simple Intrest: 2500\n",
            "Enter Rate Of Intrest: 6.5\n",
            "Enter Time Period: 4\n",
            "The Simple Intrest will Be:  650.0\n"
          ]
        }
      ]
    },
    {
      "cell_type": "markdown",
      "source": [
        "### Q6:- Write a program that will tell the number of dogs and chicken are there when the user will provide the value of total heads and legs.\n",
        "\n",
        "For example:\n",
        "Input:\n",
        "heads -> 4\n",
        "legs -> 12\n",
        "<br>\n",
        "Output:\n",
        "dogs -> 2\n",
        "chicken -> 2\n",
        "\n",
        "\n",
        "\n"
      ],
      "metadata": {
        "id": "LMy0BTUktYKa"
      }
    },
    {
      "cell_type": "code",
      "source": [
        "# Write your code here\n",
        "h=int(input(\"Enter Total Number Of Heads: \"))\n",
        "l=int(input(\"Enter Total Number Of legs: \"))\n",
        "\n",
        "\n",
        "c=(4*h-l)//2\n",
        "d=h-c\n",
        "\n",
        "print(f\"The Number Of Dogs are {d} and Chicken are {c}\")"
      ],
      "metadata": {
        "id": "XSBvJoA4tXaG",
        "outputId": "e05c5878-a09d-400a-ba95-c47d00a08d54",
        "colab": {
          "base_uri": "https://localhost:8080/"
        }
      },
      "execution_count": 13,
      "outputs": [
        {
          "output_type": "stream",
          "name": "stdout",
          "text": [
            "Enter Total Number Of Heads: 4\n",
            "Enter Total Number Of legs: 12\n",
            "The Number Of Dogs are 2 and Chicken are 2\n"
          ]
        }
      ]
    },
    {
      "cell_type": "markdown",
      "source": [
        "### Q7:- Write a program to find the sum of squares of first n natural numbers where n will be provided by the user."
      ],
      "metadata": {
        "id": "gJ7C5kZYt4BP"
      }
    },
    {
      "cell_type": "code",
      "source": [
        "# Write your code here\n",
        "n=int(input(\"Enter The value of n: \"))\n",
        "\n",
        "sum=0\n",
        "i=1\n",
        "\n",
        "while(n>0):\n",
        "  sum=sum+(i**2)\n",
        "  n=n-1\n",
        "  i=i+1\n",
        "\n",
        "print(\"Sum Of Squares Will Be: \",sum)"
      ],
      "metadata": {
        "id": "_tHsmEHzt2nX",
        "outputId": "b57061b8-9b7e-4924-9fa9-487ce4037f0a",
        "colab": {
          "base_uri": "https://localhost:8080/"
        }
      },
      "execution_count": 16,
      "outputs": [
        {
          "output_type": "stream",
          "name": "stdout",
          "text": [
            "Enter The value of n: 3\n",
            "Sum Of Squares Will Be:  14\n"
          ]
        }
      ]
    },
    {
      "cell_type": "markdown",
      "source": [
        "### Q8:- Given the first 2 terms of an Arithmetic Series.Find the Nth term of the series. Assume all inputs are provided by the user."
      ],
      "metadata": {
        "id": "FHrMM7g-yG1h"
      }
    },
    {
      "cell_type": "code",
      "source": [
        "# Write your code here\n",
        "f=int(input(\"Enter The First Term: \"))\n",
        "s=int(input(\"Enter The Second Term: \"))\n",
        "\n",
        "n=int(input(\"Enter The Term Which you want To Find: \"))\n",
        "\n",
        "cd=s-f\n",
        "print(f\"The nth Term will Be: {f+(n-1)*cd}\")"
      ],
      "metadata": {
        "id": "go4_kmZmyVSx",
        "outputId": "fe4a76fb-1b79-47ab-8b9a-75d6585b0135",
        "colab": {
          "base_uri": "https://localhost:8080/"
        }
      },
      "execution_count": 17,
      "outputs": [
        {
          "output_type": "stream",
          "name": "stdout",
          "text": [
            "Enter The First Term: 1\n",
            "Enter The Second Term: 2\n",
            "Enter The Term Which you want To Find: 8\n",
            "The nth Term will Be: 8\n"
          ]
        }
      ]
    },
    {
      "cell_type": "markdown",
      "source": [
        "### Q9:- Given 2 fractions, find the sum of those 2 fractions.Take the numerator and denominator values of the fractions from the user."
      ],
      "metadata": {
        "id": "QgyRX_es1oum"
      }
    },
    {
      "cell_type": "code",
      "source": [
        "# Write your code here\n",
        "fn=int(input(\"Enter First Numerator: \"))\n",
        "fd=int(input(\"Enter First Denomrator: \"))\n",
        "\n",
        "\n",
        "sn=int(input(\"Enter Second Numerator: \"))\n",
        "sd=int(input(\"Enter Second Denomrator: \"))\n",
        "\n",
        "\n",
        "rn=(fn*sd)+ (sn*3\n",
        "             fd)\n",
        "rd=fd*sd\n",
        "\n",
        "print(f\"The Sum Will Be: {rn}/{rd}\")\n"
      ],
      "metadata": {
        "id": "X05xqFS1yW16",
        "outputId": "4c06f354-ba82-4cc5-b94a-a6e0d99cfb43",
        "colab": {
          "base_uri": "https://localhost:8080/"
        }
      },
      "execution_count": 20,
      "outputs": [
        {
          "output_type": "stream",
          "name": "stdout",
          "text": [
            "Enter First Numerator: 1\n",
            "Enter First Denomrator: 2\n",
            "Enter Second Numerator: 2\n",
            "Enter Second Denomrator: 3\n",
            "The Sum Will Be: 7/6\n"
          ]
        }
      ]
    },
    {
      "cell_type": "markdown",
      "source": [
        "### Q10:- Given the height, width and breadth of a milk tank, you have to find out how many glasses of milk can be obtained? Assume all the inputs are provided by the user.\n",
        "\n",
        "\n",
        "\n",
        "Input:<br>\n",
        "Dimensions of the milk tank<br>\n",
        "H = 20cm, L = 20cm, B = 20cm\n",
        "<br><br>\n",
        "Dimensions of the glass<br>\n",
        "h = 3cm, r = 1cm"
      ],
      "metadata": {
        "id": "eaql38ln13u7"
      }
    },
    {
      "cell_type": "code",
      "source": [
        "# Write your code here\n",
        "\n",
        "ht=int(input(\"Enter The Height Of milk tank: \"))\n",
        "lt=int(input(\"Enter The length Of milk tank: \"))\n",
        "bt=int(input(\"Enter The breadth Of milk tank: \"))\n",
        "\n",
        "\n",
        "vt=ht*lt*bt\n",
        "\n",
        "\n",
        "hg=int(input(\"Enter The Height Of Glass: \"))\n",
        "rg=int(input(\"Enter The Radius Of Glass: \"))\n",
        "\n",
        "vg=3.14*(rg**2)*hg\n",
        "\n",
        "\n",
        "print(f\"The Number Of Glasses Will Be: {vt/2/vg}\")\n",
        "\n"
      ],
      "metadata": {
        "id": "FePZqno74eWv",
        "outputId": "12fce3ba-f52b-4887-e510-3ac5721a9a88",
        "colab": {
          "base_uri": "https://localhost:8080/"
        }
      },
      "execution_count": 23,
      "outputs": [
        {
          "output_type": "stream",
          "name": "stdout",
          "text": [
            "Enter The Height Of milk tank: 20\n",
            "Enter The length Of milk tank: 20\n",
            "Enter The breadth Of milk tank: 20\n",
            "Enter The Height Of Glass: 3\n",
            "Enter The Radius Of Glass: 1\n",
            "The Number Of Glasses Will Be: 849.0\n"
          ]
        }
      ]
    }
  ]
}